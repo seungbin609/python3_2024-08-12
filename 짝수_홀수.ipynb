{
  "nbformat": 4,
  "nbformat_minor": 0,
  "metadata": {
    "colab": {
      "provenance": [],
      "authorship_tag": "ABX9TyM/3Z5pBPM1Cx8sU+JzpQtk",
      "include_colab_link": true
    },
    "kernelspec": {
      "name": "python3",
      "display_name": "Python 3"
    },
    "language_info": {
      "name": "python"
    }
  },
  "cells": [
    {
      "cell_type": "markdown",
      "metadata": {
        "id": "view-in-github",
        "colab_type": "text"
      },
      "source": [
        "<a href=\"https://colab.research.google.com/github/seungbin609/python3_2024-08-12/blob/main/%EC%A7%9D%EC%88%98_%ED%99%80%EC%88%98.ipynb\" target=\"_parent\"><img src=\"https://colab.research.google.com/assets/colab-badge.svg\" alt=\"Open In Colab\"/></a>"
      ]
    },
    {
      "cell_type": "markdown",
      "source": [
        "짝수 홀수 알아보기"
      ],
      "metadata": {
        "id": "pYqyYf2BLjuP"
      }
    },
    {
      "cell_type": "code",
      "source": [
        "# 사용자로부터 숫자를 입력받습니다.\n",
        "num = int(input(\"숫자를 입력하세요: \"))\n",
        "\n",
        "# 입력된 숫자가 짝수인지 홀수인지 판별합니다.\n",
        "if num % 2 == 0:\n",
        "    print(f\"{num}은(는) 짝수입니다.\")\n",
        "else:\n",
        "    print(f\"{num}은(는) 홀수입니다.\")"
      ],
      "metadata": {
        "colab": {
          "base_uri": "https://localhost:8080/"
        },
        "id": "xYfCuMTqLpe-",
        "outputId": "b28920bd-99df-4c58-ae9f-06afbccc5e3a"
      },
      "execution_count": 2,
      "outputs": [
        {
          "output_type": "stream",
          "name": "stdout",
          "text": [
            "숫자를 입력하세요: 4\n",
            "4은(는) 짝수입니다.\n"
          ]
        }
      ]
    }
  ]
}